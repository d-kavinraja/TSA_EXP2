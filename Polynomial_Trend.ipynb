{
 "cells": [
  {
   "cell_type": "code",
   "execution_count": 1,
   "metadata": {},
   "outputs": [
    {
     "name": "stdout",
     "output_type": "stream",
     "text": [
      "[-5.0, -3.0, -1.0, 1.0, 3.0, 5.0]\n",
      "+--------+--------+------------+-------+-------+-------+------+-------+\n",
      "|   Year |   Prod |   X=x-2013 |   X^2 |   X^3 |   X^4 |   xy |   x2y |\n",
      "+========+========+============+=======+=======+=======+======+=======+\n",
      "|   2011 |    100 |         -5 |    25 |  -125 |   625 | -500 |  2500 |\n",
      "+--------+--------+------------+-------+-------+-------+------+-------+\n",
      "|   2012 |    107 |         -3 |     9 |   -27 |    81 | -321 |   963 |\n",
      "+--------+--------+------------+-------+-------+-------+------+-------+\n",
      "|   2013 |    128 |         -1 |     1 |    -1 |     1 | -128 |   128 |\n",
      "+--------+--------+------------+-------+-------+-------+------+-------+\n",
      "|   2014 |    140 |          1 |     1 |     1 |     1 |  140 |   140 |\n",
      "+--------+--------+------------+-------+-------+-------+------+-------+\n",
      "|   2015 |    181 |          3 |     9 |    27 |    81 |  543 |  1629 |\n",
      "+--------+--------+------------+-------+-------+-------+------+-------+\n",
      "|   2016 |    192 |          5 |    25 |   125 |   625 |  960 |  4800 |\n",
      "+--------+--------+------------+-------+-------+-------+------+-------+\n",
      "Polynomial trend equation y=136.12+9.91x+0.45x^2\n"
     ]
    }
   ],
   "source": [
    "import numpy as np\n",
    "from tabulate import tabulate\n",
    "# x = list(map(int, input(\"Enter a list of years\").split()))\n",
    "# y = list(map(int, input(\"Enter a list of observation\").split()))\n",
    "x = [2011,2012,2013,2014,2015,2016]\n",
    "y = [100,107,128,140,181,192]\n",
    "X = [2*(i-(sum(x)/len(x))) for i in x]\n",
    "print(X)\n",
    "x2 = [i ** 2 for i in X]\n",
    "xy = [i * j for i, j in zip(X, y)]\n",
    "x3 = [i ** 3 for i in X]\n",
    "x4 = [i ** 4 for i in X]\n",
    "x2y=[i*j for i,j in zip(x2,y)]\n",
    "\n",
    "table = [[i, j, k, l, m,n,o,p] for i, j, k, l, m,n,o,p in zip(x, y, X, x2, x3,x4,xy,x2y)]\n",
    "\n",
    "print(tabulate(table, headers=[\"Year\", \"Prod\", \"X=x-2013\", \"X^2\", \"X^3\",\"X^4\",\"xy\",\"x2y\"], tablefmt=\"grid\"))\n",
    "coeff=[[len(X),sum(X)],[sum(X),sum(x2)]]\n",
    "\n",
    "coeff=[[len(x),sum(X),sum(x2)],[sum(X),sum(x2),sum(x3)],[sum(x2),sum(x3),sum(x4)]]\n",
    "Y=[sum(y),sum(xy),sum(x2y)]\n",
    "A=np.array(coeff)\n",
    "B=np.array(Y)\n",
    "try:\n",
    "  solution=np.linalg.solve(A,B)\n",
    "  # print(solution)\n",
    "except:\n",
    "  print(\"error\")\n",
    "a,b,c=solution\n",
    "# print(a,b,c)\n",
    "print(\"Polynomial trend equation y=%.2f+%0.2fx+%.2fx^2\"%(a,b,c))"
   ]
  },
  {
   "cell_type": "code",
   "execution_count": null,
   "metadata": {},
   "outputs": [],
   "source": []
  }
 ],
 "metadata": {
  "kernelspec": {
   "display_name": "Python 3",
   "language": "python",
   "name": "python3"
  },
  "language_info": {
   "codemirror_mode": {
    "name": "ipython",
    "version": 3
   },
   "file_extension": ".py",
   "mimetype": "text/x-python",
   "name": "python",
   "nbconvert_exporter": "python",
   "pygments_lexer": "ipython3",
   "version": "3.11.5"
  }
 },
 "nbformat": 4,
 "nbformat_minor": 2
}
